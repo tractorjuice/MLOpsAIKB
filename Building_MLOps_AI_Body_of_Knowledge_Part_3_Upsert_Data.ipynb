{
  "cells": [
    {
      "cell_type": "markdown",
      "metadata": {
        "id": "view-in-github",
        "colab_type": "text"
      },
      "source": [
        "<a href=\"https://colab.research.google.com/github/tractorjuice/MLOpsAIKB/blob/main/Building_MLOps_AI_Body_of_Knowledge_Part_3_Upsert_Data.ipynb\" target=\"_parent\"><img src=\"https://colab.research.google.com/assets/colab-badge.svg\" alt=\"Open In Colab\"/></a>"
      ]
    },
    {
      "cell_type": "markdown",
      "metadata": {
        "id": "07c1e3b9"
      },
      "source": [
        "# MLOps AI Body of Knowledge Using Langchain & OpenAI\n",
        "## Part 3, create the vector database\n",
        "\n",
        "This example shows how to create and query an internal knowledge base using ChatGPT.\n",
        "\n",
        "This does requires a GPU/TPU runtime."
      ],
      "id": "07c1e3b9"
    },
    {
      "cell_type": "markdown",
      "metadata": {
        "id": "pZMGuOEMrG2V"
      },
      "source": [
        "### Runtime Checks"
      ],
      "id": "pZMGuOEMrG2V"
    },
    {
      "cell_type": "code",
      "execution_count": null,
      "metadata": {
        "id": "b95p5xdwLUSC"
      },
      "outputs": [],
      "source": [
        "try:\n",
        "  gpu_info = !nvidia-smi\n",
        "except:\n",
        "  print('No GPU')\n",
        "else:\n",
        "  gpu_info = '\\n'.join(gpu_info)\n",
        "  if gpu_info.find('failed') >= 0:\n",
        "    print('Not connected to a GPU')\n",
        "  print(gpu_info)"
      ],
      "id": "b95p5xdwLUSC"
    },
    {
      "cell_type": "code",
      "execution_count": null,
      "metadata": {
        "id": "Hi64puI8Lf--"
      },
      "outputs": [],
      "source": [
        "from psutil import virtual_memory\n",
        "ram_gb = virtual_memory().total / 1e9\n",
        "print('Your runtime has {:.1f} gigabytes of available RAM\\n'.format(ram_gb))\n",
        "\n",
        "if ram_gb < 20:\n",
        "  print('Not using a high-RAM runtime')\n",
        "else:\n",
        "  print('You are using a high-RAM runtime!')"
      ],
      "id": "Hi64puI8Lf--"
    },
    {
      "cell_type": "markdown",
      "metadata": {
        "id": "0UqlAAxTXnGF"
      },
      "source": [
        "## Set Up\n"
      ],
      "id": "0UqlAAxTXnGF"
    },
    {
      "cell_type": "markdown",
      "metadata": {
        "id": "K3l-ZazUZPR2"
      },
      "source": [
        "Mount Google Drive"
      ],
      "id": "K3l-ZazUZPR2"
    },
    {
      "cell_type": "code",
      "execution_count": null,
      "metadata": {
        "id": "trki7a-jZNzf"
      },
      "outputs": [],
      "source": [
        "from google.colab import drive\n",
        "drive.mount('/content/gdrive')"
      ],
      "id": "trki7a-jZNzf"
    },
    {
      "cell_type": "code",
      "source": [
        "import os\n",
        "\n",
        "KB_FOLDER = \"/content/gdrive/MyDrive/MLOpsKB\"  # Google drive folder to save the knowledgebase\n",
        "YT_DATASTORE = os.path.join(KB_FOLDER, \"youtube/datastore\")  # Sub-directory for YouTube FAIS datastore files\n",
        "YT_AUDIO_FOLDER = os.path.join(KB_FOLDER, \"youtube/audio\")  # Sub-directory for audio files\n",
        "TRANSCRIPTS_FOLDER = os.path.join(YT_AUDIO_FOLDER, \"transcripts\")  # Sub-directory for transcripts of audio files\n",
        "TRANSCRIPTS_TEXT_FOLDER = os.path.join(TRANSCRIPTS_FOLDER, \"text\")  # Sub-directory for text of audio files\n",
        "TRANSCRIPTS_WHISPER_FOLDER = os.path.join(TRANSCRIPTS_FOLDER, \"whisper_chunks\")  # Sub-directory for Whisper chunks of audio files\n",
        "\n",
        "# Check if directory exists and if not, create it\n",
        "if not os.path.exists(KB_FOLDER):\n",
        "    os.makedirs(KB_FOLDER)\n",
        "\n",
        "# Check if directory exists and if not, create it\n",
        "if not os.path.exists(YT_DATASTORE):\n",
        "    os.makedirs(YT_DATASTORE)\n",
        "\n",
        "# Check if sub-directory exists and if not, create it\n",
        "if not os.path.exists(YT_AUDIO_FOLDER):\n",
        "    os.makedirs(YT_AUDIO_FOLDER)\n",
        "\n",
        "# Check if sub-directory exists and if not, create it\n",
        "if not os.path.exists(TRANSCRIPTS_FOLDER):\n",
        "    os.makedirs(TRANSCRIPTS_FOLDER)\n",
        "\n",
        "# Check if sub-directory exists and if not, create it\n",
        "if not os.path.exists(TRANSCRIPTS_TEXT_FOLDER):\n",
        "    os.makedirs(TRANSCRIPTS_TEXT_FOLDER)\n",
        "\n",
        "# Check if sub-directory exists and if not, create it\n",
        "if not os.path.exists(TRANSCRIPTS_WHISPER_FOLDER):\n",
        "    os.makedirs(TRANSCRIPTS_WHISPER_FOLDER)"
      ],
      "metadata": {
        "id": "jmebnpL_KA5N"
      },
      "id": "jmebnpL_KA5N",
      "execution_count": null,
      "outputs": []
    },
    {
      "cell_type": "markdown",
      "metadata": {
        "id": "03__ie72B8J_"
      },
      "source": [
        "Use Pinecone for the Vector Database"
      ],
      "id": "03__ie72B8J_"
    },
    {
      "cell_type": "code",
      "execution_count": null,
      "metadata": {
        "id": "W6TkUqCJB_2X"
      },
      "outputs": [],
      "source": [
        "!pip install -q langchain\n",
        "!pip install -q openai\n",
        "!pip install -q tiktoken"
      ],
      "id": "W6TkUqCJB_2X"
    },
    {
      "cell_type": "markdown",
      "metadata": {
        "id": "TUbD-eXCXNy-"
      },
      "source": [
        "Set up OPEN_API_KEY and necessary variables"
      ],
      "id": "TUbD-eXCXNy-"
    },
    {
      "cell_type": "code",
      "execution_count": null,
      "metadata": {
        "id": "tY7CJZoh5cma"
      },
      "outputs": [],
      "source": [
        "import os\n",
        "from getpass import getpass\n",
        "\n",
        "os.environ[\"OPENAI_API_KEY\"] = \"\" # Add your OpenAI API key here\n",
        "\n",
        "#MODEL = \"gpt-3\"\n",
        "#MODEL = \"gpt-3.5-turbo\"\n",
        "#MODEL = \"gpt-3.5-turbo-0613\"\n",
        "#MODEL = \"gpt-3.5-turbo-16k\"\n",
        "MODEL = \"gpt-3.5-turbo-16k-0613\"\n",
        "#MODEL = \"gpt-4\"\n",
        "#MODEL = \"gpt-4-0613\"\n",
        "#MODEL = \"gpt-4-32k-0613\""
      ],
      "id": "tY7CJZoh5cma"
    },
    {
      "cell_type": "markdown",
      "metadata": {
        "id": "1mHZRgDKXv1r"
      },
      "source": [
        "# Build the datastore"
      ],
      "id": "1mHZRgDKXv1r"
    },
    {
      "cell_type": "markdown",
      "source": [
        "### Initialise preferred vectorstore"
      ],
      "metadata": {
        "id": "jxHzp8FxrtcX"
      },
      "id": "jxHzp8FxrtcX"
    },
    {
      "cell_type": "code",
      "source": [
        "vectorstore = 'FAISS' # Set to 'Pinecone' or 'FAISS' for the vector datbase"
      ],
      "metadata": {
        "id": "10GlZHOC9wDV"
      },
      "id": "10GlZHOC9wDV",
      "execution_count": null,
      "outputs": []
    },
    {
      "cell_type": "code",
      "source": [
        "if vectorstore == 'Pinecone':\n",
        "    !pip install -q pinecone-client\n",
        "    from langchain.vectorstores import Pinecone\n",
        "    from tqdm.auto import tqdm\n",
        "    import pinecone\n",
        "\n",
        "    # initialize pinecone\n",
        "    pinecone.init(\n",
        "        api_key=\"\",  # find at app.pinecone.io\n",
        "        environment=\"us-west4-gcp\"  # next to api key in console\n",
        "        )\n",
        "\n",
        "    index_name = \"knowledge\" # Put your Pincecone index name here\n",
        "    name_space = \"mlopskb\" # Put your Pincecone namespace here\n",
        "\n",
        "else:\n",
        "    !pip install -q faiss-cpu\n",
        "    from langchain.vectorstores import FAISS\n"
      ],
      "metadata": {
        "id": "noWJSCD794Qj"
      },
      "id": "noWJSCD794Qj",
      "execution_count": null,
      "outputs": []
    },
    {
      "cell_type": "code",
      "source": [
        "import json\n",
        "from langchain.text_splitter import CharacterTextSplitter\n",
        "from langchain.embeddings.openai import OpenAIEmbeddings\n",
        "import tiktoken"
      ],
      "metadata": {
        "id": "-D1uKLEKLsz6"
      },
      "id": "-D1uKLEKLsz6",
      "execution_count": null,
      "outputs": []
    },
    {
      "cell_type": "markdown",
      "metadata": {
        "id": "Ph7oFppn_V5N"
      },
      "source": [
        "## Split text and create chunks, create metadata and upsert embeddings to vectorstore"
      ],
      "id": "Ph7oFppn_V5N"
    },
    {
      "cell_type": "code",
      "execution_count": null,
      "metadata": {
        "id": "K06kr6G8jSds"
      },
      "outputs": [],
      "source": [
        "#Required for YouTube transcript extraction\n",
        "!pip install -q pytube\n",
        "import pytube"
      ],
      "id": "K06kr6G8jSds"
    },
    {
      "cell_type": "markdown",
      "metadata": {
        "id": "VOdewvujOuaP"
      },
      "source": [
        "### Upsert embeddings to preferred vector store"
      ],
      "id": "VOdewvujOuaP"
    },
    {
      "cell_type": "code",
      "execution_count": null,
      "metadata": {
        "id": "UHviRb3WmbYW"
      },
      "outputs": [],
      "source": [
        "docs = []\n",
        "metadatas = []\n",
        "unique_video_ids = []\n",
        "transcriptions = []\n",
        "counter = 0\n",
        "texts = []\n",
        "start_times = []\n",
        "\n",
        "text_splitter = CharacterTextSplitter(chunk_size=1000, chunk_overlap=0, separator=\"\\n\")\n",
        "embeddings = OpenAIEmbeddings()\n",
        "\n",
        "with open(f'{YT_AUDIO_FOLDER}/videos.txt', 'r') as file:\n",
        "    for line in file:\n",
        "        # Remove linebreak which is the last character of the string\n",
        "        curr_place = line[:-1]\n",
        "        # Add item to the list\n",
        "        unique_video_ids.append(curr_place)\n",
        "\n",
        "total_videos = len(unique_video_ids)\n",
        "\n",
        "for videos in unique_video_ids:\n",
        "    counter = counter + 1\n",
        "    transcript_filename = f'{TRANSCRIPTS_WHISPER_FOLDER}/' + videos + '_large.txt'\n",
        "    url = \"https://www.youtube.com/watch?v=\" + videos\n",
        "    try:\n",
        "        file = open(transcript_filename, 'r')\n",
        "    except:\n",
        "        print(f'{counter} of {total_videos}: File does not exist {transcript_filename}, skipping.')\n",
        "    else:\n",
        "        print(f'{counter} of {total_videos}: Loading {transcript_filename} ......\\n')\n",
        "        transcription = json.load(file)\n",
        "        texts = []\n",
        "        start_times = []\n",
        "        docs = []\n",
        "        metadatas = []\n",
        "\n",
        "        for chunk in transcription['chunks']:\n",
        "            if chunk['timestamp'][0] is not None:\n",
        "                text = chunk['text']\n",
        "                start = int(chunk['timestamp'][0])\n",
        "                texts.append(text)\n",
        "                start_times.append(start)\n",
        "\n",
        "        yt = pytube.YouTube(url)\n",
        "        try:\n",
        "            video_title = yt.title\n",
        "        except:\n",
        "            video_title = \"\"\n",
        "        try:\n",
        "            video_author = yt.author\n",
        "        except:\n",
        "            video_author = \"\"\n",
        "\n",
        "        for i, d in enumerate(texts):\n",
        "            splits = text_splitter.split_text(d)\n",
        "            docs.extend(splits)\n",
        "            metadatas.extend([{\"source\": start_times[i], \"source_url\": videos, \"title\": video_title, \"author\": video_author}])\n",
        "\n",
        "        if vectorstore == 'Pinecone':\n",
        "            try:\n",
        "                vector_store = Pinecone.from_texts(docs, embeddings, metadatas=metadatas, index_name=index_name, namespace=name_space)\n",
        "            except:\n",
        "                print(\"Error upserting data into the vectorstore\\n\")\n",
        "        else:\n",
        "            try:\n",
        "                vector_store = FAISS.from_texts(docs, embeddings, metadatas=metadatas)\n",
        "                if os.path.exists(f\"{YT_DATASTORE}/index.faiss\"):\n",
        "                    existing_index=FAISS.load_local(f\"{YT_DATASTORE}\", embeddings)\n",
        "                    existing_index.merge_from(vector_store)\n",
        "                    existing_index.save_local(f\"{YT_DATASTORE}\")\n",
        "                else:\n",
        "                    vector_store.save_local(f\"{YT_DATASTORE}\") # Download the files `$YT_DATA_STORE/index.faiss` and `$YT_DATA_STORE/index.pkl` to local\n",
        "            except:\n",
        "                print(\"Error upserting data into the vectorstore\\n\")\n"
      ],
      "id": "UHviRb3WmbYW"
    },
    {
      "cell_type": "markdown",
      "source": [
        "## Store the chunks for processing later"
      ],
      "metadata": {
        "id": "DMUH-ZWkgoZS"
      },
      "id": "DMUH-ZWkgoZS"
    },
    {
      "cell_type": "code",
      "source": [
        "import json\n",
        "\n",
        "unique_video_ids = []\n",
        "transcriptions = []\n",
        "counter = 0\n",
        "texts = []\n",
        "\n",
        "with open(f'{YT_AUDIO_FOLDER}/videos.txt', 'r') as file:\n",
        "    for line in file:\n",
        "        # Remove linebreak which is the last character of the string\n",
        "        curr_place = line[:-1]\n",
        "        # Add item to the list\n",
        "        unique_video_ids.append(curr_place)\n",
        "\n",
        "total_videos = len(unique_video_ids)\n",
        "\n",
        "for video_id in unique_video_ids:\n",
        "    counter = counter + 1\n",
        "    transcript_filename = f'{TRANSCRIPTS_WHISPER_FOLDER}/' + video_id + '_large.txt'\n",
        "    url = \"https://www.youtube.com/watch?v=\" + video_id\n",
        "    try:\n",
        "        file = open(transcript_filename, 'r')\n",
        "    except:\n",
        "        print(f'{counter} of {total_videos}: File does not exist {transcript_filename}, skipping.')\n",
        "    else:\n",
        "        print(f'{counter} of {total_videos}: Loading {transcript_filename} ......\\n')\n",
        "        transcription = json.load(file)\n",
        "        text = transcription['text']\n",
        "\n",
        "        # Write text to file\n",
        "        with open(f'{TRANSCRIPTS_TEXT_FOLDER}/' + video_id + '_large.txt', 'w') as output_file:\n",
        "            output_file.write(text)"
      ],
      "metadata": {
        "id": "Y-u0ufO_1C6L"
      },
      "id": "Y-u0ufO_1C6L",
      "execution_count": null,
      "outputs": []
    }
  ],
  "metadata": {
    "accelerator": "GPU",
    "colab": {
      "provenance": [],
      "gpuClass": "premium",
      "collapsed_sections": [
        "pZMGuOEMrG2V",
        "jxHzp8FxrtcX"
      ],
      "gpuType": "V100",
      "include_colab_link": true
    },
    "kernelspec": {
      "display_name": "Python 3 (ipykernel)",
      "language": "python",
      "name": "python3"
    },
    "language_info": {
      "codemirror_mode": {
        "name": "ipython",
        "version": 3
      },
      "file_extension": ".py",
      "mimetype": "text/x-python",
      "name": "python",
      "nbconvert_exporter": "python",
      "pygments_lexer": "ipython3",
      "version": "3.9.1"
    },
    "vscode": {
      "interpreter": {
        "hash": "b1677b440931f40d89ef8be7bf03acb108ce003de0ac9b18e8d43753ea2e7103"
      }
    }
  },
  "nbformat": 4,
  "nbformat_minor": 5
}