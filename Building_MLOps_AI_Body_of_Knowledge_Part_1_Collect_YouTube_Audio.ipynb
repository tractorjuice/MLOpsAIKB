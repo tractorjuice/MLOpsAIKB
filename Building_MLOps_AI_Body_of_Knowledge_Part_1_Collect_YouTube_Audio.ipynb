{
  "cells": [
    {
      "cell_type": "markdown",
      "metadata": {
        "id": "view-in-github",
        "colab_type": "text"
      },
      "source": [
        "<a href=\"https://colab.research.google.com/github/tractorjuice/MLOpsAIKB/blob/main/Building_MLOps_AI_Body_of_Knowledge_Part_1_Collect_YouTube_Audio.ipynb\" target=\"_parent\"><img src=\"https://colab.research.google.com/assets/colab-badge.svg\" alt=\"Open In Colab\"/></a>"
      ]
    },
    {
      "cell_type": "markdown",
      "metadata": {
        "id": "07c1e3b9"
      },
      "source": [
        "# MLOps AI Body of Knowledge Using Langchain & OpenAI\n",
        "## Part 1, data collection. Collect the required data for processing\n",
        "\n",
        "This example shows how to create and query an internal knowledge base using ChatGPT.\n",
        "\n",
        "This does not require a GPU/TPU runtime."
      ],
      "id": "07c1e3b9"
    },
    {
      "cell_type": "markdown",
      "metadata": {
        "id": "0UqlAAxTXnGF"
      },
      "source": [
        "## Set Up\n"
      ],
      "id": "0UqlAAxTXnGF"
    },
    {
      "cell_type": "markdown",
      "metadata": {
        "id": "K3l-ZazUZPR2"
      },
      "source": [
        "###Mount Google Drive"
      ],
      "id": "K3l-ZazUZPR2"
    },
    {
      "cell_type": "code",
      "execution_count": null,
      "metadata": {
        "id": "trki7a-jZNzf"
      },
      "outputs": [],
      "source": [
        "from google.colab import drive\n",
        "drive.mount('/content/gdrive')"
      ],
      "id": "trki7a-jZNzf"
    },
    {
      "cell_type": "code",
      "execution_count": null,
      "metadata": {
        "id": "BPsvKKXIo3f2"
      },
      "outputs": [],
      "source": [
        "import os\n",
        "\n",
        "KB_FOLDER = \"/content/gdrive/MyDrive/AI/MLOpsKB\"  # Google drive folder to save the knowledgebase\n",
        "YT_DATASTORE = os.path.join(KB_FOLDER, \"youtube/datastore\")  # Sub-directory for YouTube FAIS datastore files\n",
        "YT_AUDIO_FOLDER = os.path.join(KB_FOLDER, \"youtube/audio\")  # Sub-directory for audio files\n",
        "TRANSCRIPTS_FOLDER = os.path.join(YT_AUDIO_FOLDER, \"transcripts\")  # Sub-directory for transcripts of audio files\n",
        "TRANSCRIPTS_TEXT_FOLDER = os.path.join(TRANSCRIPTS_FOLDER, \"text\")  # Sub-directory for text of audio files\n",
        "TRANSCRIPTS_WHISPER_FOLDER = os.path.join(TRANSCRIPTS_FOLDER, \"whisper_chunks\")  # Sub-directory for Whisper chunks of audio files\n",
        "\n",
        "# Check if directory exists and if not, create it\n",
        "if not os.path.exists(KB_FOLDER):\n",
        "    os.makedirs(KB_FOLDER)\n",
        "\n",
        "# Check if directory exists and if not, create it\n",
        "if not os.path.exists(YT_DATASTORE):\n",
        "    os.makedirs(YT_DATASTORE)\n",
        "\n",
        "# Check if sub-directory exists and if not, create it\n",
        "if not os.path.exists(YT_AUDIO_FOLDER):\n",
        "    os.makedirs(YT_AUDIO_FOLDER)\n",
        "\n",
        "# Check if sub-directory exists and if not, create it\n",
        "if not os.path.exists(TRANSCRIPTS_FOLDER):\n",
        "    os.makedirs(TRANSCRIPTS_FOLDER)\n",
        "\n",
        "# Check if sub-directory exists and if not, create it\n",
        "if not os.path.exists(TRANSCRIPTS_TEXT_FOLDER):\n",
        "    os.makedirs(TRANSCRIPTS_TEXT_FOLDER)\n",
        "\n",
        "# Check if sub-directory exists and if not, create it\n",
        "if not os.path.exists(TRANSCRIPTS_WHISPER_FOLDER):\n",
        "    os.makedirs(TRANSCRIPTS_WHISPER_FOLDER)"
      ],
      "id": "BPsvKKXIo3f2"
    },
    {
      "cell_type": "markdown",
      "metadata": {
        "id": "Umxa-nBZIW5Q"
      },
      "source": [
        "## Find all Wardley Mapping YouTube Videos"
      ],
      "id": "Umxa-nBZIW5Q"
    },
    {
      "cell_type": "code",
      "execution_count": null,
      "metadata": {
        "id": "nx154vPks4wz"
      },
      "outputs": [],
      "source": [
        "!pip install -q scrapetube\n",
        "import scrapetube"
      ],
      "id": "nx154vPks4wz"
    },
    {
      "cell_type": "code",
      "execution_count": null,
      "metadata": {
        "id": "H6S-NsNuvJmq"
      },
      "outputs": [],
      "source": [
        "# MLOps LLMs in Production Part II Playlist:\n",
        "mlops_llms_prod_partii_videos = scrapetube.get_playlist(\"PL3vkEKxWd-uupBSWL-DbVJuCMqXO9Z3Z4\")\n",
        "\n",
        "mlops_llms_prod_partii_video_ids = [video['videoId'] for video in mlops_llms_prod_partii_videos]\n",
        "print (mlops_llms_prod_partii_video_ids)"
      ],
      "id": "H6S-NsNuvJmq"
    },
    {
      "cell_type": "code",
      "execution_count": null,
      "metadata": {
        "id": "DKaWMGhZpgoo"
      },
      "outputs": [],
      "source": [
        "# MLOps LLMs in Production Part I Playlist:\n",
        "mlops_llms_prod_parti_videos = scrapetube.get_playlist(\"PL3vkEKxWd-us5YvvuvYkjP_QGlgUq3tpA\")\n",
        "\n",
        "mlops_llms_prod_parti_video_ids = [video['videoId'] for video in mlops_llms_prod_parti_videos]\n",
        "print (mlops_llms_prod_parti_video_ids)"
      ],
      "id": "DKaWMGhZpgoo"
    },
    {
      "cell_type": "code",
      "execution_count": null,
      "metadata": {
        "id": "VCUW7szJ8n_8"
      },
      "outputs": [],
      "source": [
        "# Deduplicate the lists\n",
        "\n",
        "unique_video_ids = []\n",
        "unique_video_ids = list(set(mlops_llms_prod_parti_video_ids + mlops_llms_prod_partii_video_ids))\n",
        "print(unique_video_ids)"
      ],
      "id": "VCUW7szJ8n_8"
    },
    {
      "cell_type": "markdown",
      "metadata": {
        "id": "BHTJz8bRakwn"
      },
      "source": [
        "## Store the list of videos in a local file for processing later"
      ],
      "id": "BHTJz8bRakwn"
    },
    {
      "cell_type": "code",
      "execution_count": null,
      "metadata": {
        "id": "orbk6Pjh-bt1"
      },
      "outputs": [],
      "source": [
        "# Open the file in write mode to erase existing content\n",
        "with open(f'{YT_AUDIO_FOLDER}/videos.txt', 'w') as f:\n",
        "    pass\n",
        "\n",
        "total_videos = len(unique_video_ids)  # Get the total number of videos\n",
        "\n",
        "for idx, video_id in enumerate(unique_video_ids, start=1):\n",
        "    url = \"https://www.youtube.com/watch?v=\" + video_id\n",
        "    print(f\"Processing video {idx} of {total_videos}: {url}\")\n",
        "    with open(f'{YT_AUDIO_FOLDER}/videos.txt', 'a') as f:\n",
        "        f.write(f'{video_id}\\n')\n"
      ],
      "id": "orbk6Pjh-bt1"
    },
    {
      "cell_type": "markdown",
      "metadata": {
        "id": "g1vBRv2Ri5J8"
      },
      "source": [
        "### Download the audio from all the videos and store them on Google drive"
      ],
      "id": "g1vBRv2Ri5J8"
    },
    {
      "cell_type": "code",
      "execution_count": null,
      "metadata": {
        "id": "JD3yq0tGYa46"
      },
      "outputs": [],
      "source": [
        "!pip install -q yt-dlp"
      ],
      "id": "JD3yq0tGYa46"
    },
    {
      "cell_type": "code",
      "execution_count": null,
      "metadata": {
        "id": "gg0A13AbXctt"
      },
      "outputs": [],
      "source": [
        "import os\n",
        "import yt_dlp as yt\n",
        "\n",
        "counter = 0\n",
        "total_videos = len(unique_video_ids)\n",
        "\n",
        "# Define download options\n",
        "ydl_opts = {\n",
        "    'format': 'bestaudio/best',\n",
        "    'outtmpl': f'{YT_AUDIO_FOLDER}/clips/%(id)s.%(ext)s',\n",
        "}\n",
        "\n",
        "# Create directories if they do not exist\n",
        "os.makedirs(os.path.join(YT_AUDIO_FOLDER, 'clips'), exist_ok=True)\n",
        "\n",
        "for video_id in unique_video_ids:\n",
        "    counter = counter + 1\n",
        "    url = \"https://www.youtube.com/watch?v=\" + video_id\n",
        "    path = os.path.join(YT_AUDIO_FOLDER, 'clips', f'{video_id}.webm')\n",
        "\n",
        "    if not os.path.isfile(path):\n",
        "        print(counter, \"of\", total_videos, \": Fetching new audio file \" + video_id)\n",
        "\n",
        "        #try:\n",
        "        with yt.YoutubeDL(ydl_opts) as ydl:\n",
        "            ydl.download([url])\n",
        "        with open(os.path.join(YT_AUDIO_FOLDER, 'processed_videos.txt'), 'a') as f:\n",
        "            f.write(url + \"\\n\")\n",
        "        #except:\n",
        "        #    print(f'Video {url} is unavailable, skipping.')\n",
        "\n",
        "    else:\n",
        "        print(counter, \"of\", total_videos, \": Existing file: \" + path)\n"
      ],
      "id": "gg0A13AbXctt"
    },
    {
      "cell_type": "markdown",
      "metadata": {
        "id": "sXem9BjP4m0g"
      },
      "source": [
        "### Alternative download for the audio using PyTube"
      ],
      "id": "sXem9BjP4m0g"
    },
    {
      "cell_type": "code",
      "execution_count": null,
      "metadata": {
        "id": "QoXDO5JwcaZi"
      },
      "outputs": [],
      "source": [
        "#Required for YouTube audio extraction. Try PyTube if yt-dlp fails\n",
        "#!pip install -q pytube"
      ],
      "id": "QoXDO5JwcaZi"
    },
    {
      "cell_type": "code",
      "execution_count": null,
      "metadata": {
        "id": "B-EM3h26A2oI"
      },
      "outputs": [],
      "source": [
        "from pytube import YouTube\n",
        "\n",
        "counter = 0\n",
        "total_videos = len(unique_video_ids)\n",
        "\n",
        "# Create directories if they do not exist\n",
        "os.makedirs(os.path.join(YT_AUDIO_FOLDER, 'clips'), exist_ok=True)\n",
        "\n",
        "for video_id in unique_video_ids:\n",
        "    counter = counter + 1\n",
        "    url = \"https://www.youtube.com/watch?v=\" + video_id\n",
        "    path = os.path.join(YT_AUDIO_FOLDER, 'clips', f'{video_id}.mp4')\n",
        "\n",
        "    if not os.path.isfile(path):\n",
        "        print(counter, \"of\", total_videos, \": Fetching new audio file \" + video_id)\n",
        "        yt = YouTube(url)\n",
        "        # Download the audio stream\n",
        "\n",
        "        try:\n",
        "            audio = yt.streams.get_audio_only()\n",
        "            fn = audio.download(output_path=os.path.join(YT_AUDIO_FOLDER, 'clips'), filename=f'{video_id}.mp4')\n",
        "            with open(os.path.join(YT_AUDIO_FOLDER, 'processed_videos.txt'), 'a') as f:\n",
        "                f.write(url + \"\\n\")\n",
        "        except:\n",
        "            print(f'Error: Video {video_id} is unavailable, skipping.')\n",
        "    else:\n",
        "        print(counter, \"of\",total_videos,\": Existing file \" + video_id)"
      ],
      "id": "B-EM3h26A2oI"
    }
  ],
  "metadata": {
    "colab": {
      "provenance": [],
      "gpuClass": "premium",
      "include_colab_link": true
    },
    "gpuClass": "premium",
    "kernelspec": {
      "display_name": "Python 3",
      "name": "python3"
    },
    "language_info": {
      "codemirror_mode": {
        "name": "ipython",
        "version": 3
      },
      "file_extension": ".py",
      "mimetype": "text/x-python",
      "name": "python",
      "nbconvert_exporter": "python",
      "pygments_lexer": "ipython3",
      "version": "3.9.1"
    },
    "vscode": {
      "interpreter": {
        "hash": "b1677b440931f40d89ef8be7bf03acb108ce003de0ac9b18e8d43753ea2e7103"
      }
    }
  },
  "nbformat": 4,
  "nbformat_minor": 5
}